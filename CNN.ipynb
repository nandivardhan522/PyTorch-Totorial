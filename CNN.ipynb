{
  "nbformat": 4,
  "nbformat_minor": 0,
  "metadata": {
    "colab": {
      "provenance": [],
      "authorship_tag": "ABX9TyMXFKjAXc0z4V6o3sRJ9fMu",
      "include_colab_link": true
    },
    "kernelspec": {
      "name": "python3",
      "display_name": "Python 3"
    },
    "language_info": {
      "name": "python"
    }
  },
  "cells": [
    {
      "cell_type": "markdown",
      "metadata": {
        "id": "view-in-github",
        "colab_type": "text"
      },
      "source": [
        "<a href=\"https://colab.research.google.com/github/nandivardhan522/PyTorch-Totorial/blob/main/CNN.ipynb\" target=\"_parent\"><img src=\"https://colab.research.google.com/assets/colab-badge.svg\" alt=\"Open In Colab\"/></a>"
      ]
    },
    {
      "cell_type": "code",
      "execution_count": 2,
      "metadata": {
        "id": "AOpVOwZV872p"
      },
      "outputs": [],
      "source": [
        "import torch\n",
        "import torch.nn as nn\n",
        "import torch.nn.functional as F\n",
        "from torch.autograd import Variable\n",
        "from torch.utils.data import DataLoader\n",
        "from torchvision import datasets, transforms\n",
        "from torchvision.utils import make_grid\n",
        "\n",
        "import numpy as np\n",
        "import matplotlib.pyplot as plt\n",
        "import pandas as pd\n",
        "from sklearn.metrics import confusion_matrix\n",
        "%matplotlib inline"
      ]
    },
    {
      "cell_type": "code",
      "source": [
        "# Convert MNIST Image files into a Tensor of 4-dimensions(# of images, height, width, color)\n",
        "transform = transforms.ToTensor()"
      ],
      "metadata": {
        "id": "XAhFbTFL99-j"
      },
      "execution_count": 3,
      "outputs": []
    },
    {
      "cell_type": "code",
      "source": [
        "#Train data\n",
        "train_data = datasets.MNIST(root='cnn_data', train=True, download=True, transform=transform)"
      ],
      "metadata": {
        "colab": {
          "base_uri": "https://localhost:8080/"
        },
        "id": "GUo4Jvrf-Ukn",
        "outputId": "3c9adc64-c536-495b-cd67-a3bae13542c7"
      },
      "execution_count": 4,
      "outputs": [
        {
          "output_type": "stream",
          "name": "stderr",
          "text": [
            "100%|██████████| 9.91M/9.91M [00:01<00:00, 5.48MB/s]\n",
            "100%|██████████| 28.9k/28.9k [00:00<00:00, 161kB/s]\n",
            "100%|██████████| 1.65M/1.65M [00:01<00:00, 1.52MB/s]\n",
            "100%|██████████| 4.54k/4.54k [00:00<00:00, 5.09MB/s]\n"
          ]
        }
      ]
    },
    {
      "cell_type": "code",
      "source": [
        "#Test data\n",
        "test_data = datasets.MNIST(root='cnn_data', train=False, download=True, transform=transform)"
      ],
      "metadata": {
        "id": "zI8PvasR-tsL"
      },
      "execution_count": 5,
      "outputs": []
    },
    {
      "cell_type": "code",
      "source": [
        "train_data"
      ],
      "metadata": {
        "colab": {
          "base_uri": "https://localhost:8080/"
        },
        "id": "LgeknmGD-yRH",
        "outputId": "3cb71855-4069-47e6-a5eb-101b15ec1908"
      },
      "execution_count": 6,
      "outputs": [
        {
          "output_type": "execute_result",
          "data": {
            "text/plain": [
              "Dataset MNIST\n",
              "    Number of datapoints: 60000\n",
              "    Root location: cnn_data\n",
              "    Split: Train\n",
              "    StandardTransform\n",
              "Transform: ToTensor()"
            ]
          },
          "metadata": {},
          "execution_count": 6
        }
      ]
    },
    {
      "cell_type": "code",
      "source": [
        "test_data"
      ],
      "metadata": {
        "colab": {
          "base_uri": "https://localhost:8080/"
        },
        "id": "Z_sPUbEN-4R-",
        "outputId": "327ff5b2-06b6-45e8-8b45-0fbe410aa989"
      },
      "execution_count": 7,
      "outputs": [
        {
          "output_type": "execute_result",
          "data": {
            "text/plain": [
              "Dataset MNIST\n",
              "    Number of datapoints: 10000\n",
              "    Root location: cnn_data\n",
              "    Split: Test\n",
              "    StandardTransform\n",
              "Transform: ToTensor()"
            ]
          },
          "metadata": {},
          "execution_count": 7
        }
      ]
    },
    {
      "cell_type": "code",
      "source": [
        "# create a small batch size for images\n",
        "train_loader = DataLoader(train_data, batch_size=10, shuffle=True)\n",
        "test_loader = DataLoader(test_data, batch_size=10, shuffle=False)"
      ],
      "metadata": {
        "id": "t8WmYERI_xfe"
      },
      "execution_count": 13,
      "outputs": []
    },
    {
      "cell_type": "code",
      "source": [
        "# Define our CNN here\n",
        "# Describe convolution layer and what it's doing (2 convoultional layers)\n",
        "# This is just an example\n",
        "conv1 = nn.Conv2d(in_channels=1, out_channels=6, kernel_size=3, stride=1)\n",
        "conv2 = nn.Conv2d(in_channels=6, out_channels=16, kernel_size=3, stride=1)"
      ],
      "metadata": {
        "id": "GbkKvuS2AD-m"
      },
      "execution_count": 14,
      "outputs": []
    },
    {
      "cell_type": "code",
      "source": [
        "#grab 1 mnist record/image\n",
        "for i, (X_train, y_train) in enumerate(train_data):\n",
        "    break"
      ],
      "metadata": {
        "id": "tEtb93hnAwEf"
      },
      "execution_count": 15,
      "outputs": []
    },
    {
      "cell_type": "code",
      "source": [
        "X_train.shape"
      ],
      "metadata": {
        "colab": {
          "base_uri": "https://localhost:8080/"
        },
        "id": "YHGM62VgA_Bw",
        "outputId": "040f14d5-3e9b-434c-eac2-a0b4d06b640e"
      },
      "execution_count": 16,
      "outputs": [
        {
          "output_type": "execute_result",
          "data": {
            "text/plain": [
              "torch.Size([1, 28, 28])"
            ]
          },
          "metadata": {},
          "execution_count": 16
        }
      ]
    },
    {
      "cell_type": "code",
      "source": [
        "x=X_train.view(1,1,28,28)"
      ],
      "metadata": {
        "id": "1tHle99YBHUC"
      },
      "execution_count": 17,
      "outputs": []
    },
    {
      "cell_type": "code",
      "source": [
        "# Perform our first convolution NN\n",
        "x=F.relu(conv1(x))"
      ],
      "metadata": {
        "id": "XvEBSCDtBRQw"
      },
      "execution_count": 18,
      "outputs": []
    },
    {
      "cell_type": "code",
      "source": [
        "x.shape"
      ],
      "metadata": {
        "colab": {
          "base_uri": "https://localhost:8080/"
        },
        "id": "0pUwnFlcBgyj",
        "outputId": "dd5e3de8-e65a-4546-d520-42d6af875000"
      },
      "execution_count": 19,
      "outputs": [
        {
          "output_type": "execute_result",
          "data": {
            "text/plain": [
              "torch.Size([1, 6, 26, 26])"
            ]
          },
          "metadata": {},
          "execution_count": 19
        }
      ]
    },
    {
      "cell_type": "code",
      "source": [
        "#let's pass through the poooling layer\n",
        "x= F.max_pool2d(x,2,2)"
      ],
      "metadata": {
        "id": "62yXo8MAB9PU"
      },
      "execution_count": 20,
      "outputs": []
    },
    {
      "cell_type": "code",
      "source": [
        "x.shape"
      ],
      "metadata": {
        "colab": {
          "base_uri": "https://localhost:8080/"
        },
        "id": "OUYpJA11CQQT",
        "outputId": "7dc51e1f-edd6-4caf-fe9e-66a31b672429"
      },
      "execution_count": 21,
      "outputs": [
        {
          "output_type": "execute_result",
          "data": {
            "text/plain": [
              "torch.Size([1, 6, 13, 13])"
            ]
          },
          "metadata": {},
          "execution_count": 21
        }
      ]
    },
    {
      "cell_type": "code",
      "source": [
        "# do our second cnn\n",
        "x = F.relu(conv2(x))\n",
        "x.shape"
      ],
      "metadata": {
        "colab": {
          "base_uri": "https://localhost:8080/"
        },
        "id": "zoJZLc-dCaIV",
        "outputId": "614b0126-8fee-4895-b592-e86c68386b3d"
      },
      "execution_count": 23,
      "outputs": [
        {
          "output_type": "execute_result",
          "data": {
            "text/plain": [
              "torch.Size([1, 16, 11, 11])"
            ]
          },
          "metadata": {},
          "execution_count": 23
        }
      ]
    },
    {
      "cell_type": "code",
      "source": [
        "x= F.max_pool2d(x,2,2)\n",
        "x.shape"
      ],
      "metadata": {
        "colab": {
          "base_uri": "https://localhost:8080/"
        },
        "id": "ytrvYHBlCwxQ",
        "outputId": "61910510-475a-4215-c6a6-ca2b02a2a617"
      },
      "execution_count": 24,
      "outputs": [
        {
          "output_type": "execute_result",
          "data": {
            "text/plain": [
              "torch.Size([1, 16, 5, 5])"
            ]
          },
          "metadata": {},
          "execution_count": 24
        }
      ]
    },
    {
      "cell_type": "code",
      "source": [
        "#Model class\n",
        "class CNNModel(nn.Module):\n",
        "    def __init__(self):\n",
        "        super().__init__()\n",
        "        self.conv1 = nn.Conv2d(1,6,3,1)\n",
        "        self.conv2 = nn.Conv2d(6,16,3,1)\n",
        "        # Fully connected layer\n",
        "        self.fc1 = nn.Linear(5*5*16, 120)\n",
        "        self.fc2 = nn.Linear(120, 84)\n",
        "        self.fc3 = nn.Linear(84, 10)\n",
        "\n",
        "    def forward(self, X):\n",
        "        X = F.relu(self.conv1(X))\n",
        "        X = F.max_pool2d(X, 2, 2)\n",
        "        X = F.relu(self.conv2(X))\n",
        "        X = F.max_pool2d(X, 2, 2)\n",
        "        X = X.view(-1, 5*5*16)\n",
        "\n",
        "        X = F.relu(self.fc1(X))\n",
        "        X = F.relu(self.fc2(X))\n",
        "        X = self.fc3(X)\n",
        "        return F.log_softmax(X, dim=1)"
      ],
      "metadata": {
        "id": "3NL86djIDXkn"
      },
      "execution_count": 26,
      "outputs": []
    },
    {
      "cell_type": "code",
      "source": [
        "#create an instance for our model\n",
        "torch.manual_seed(41)\n",
        "model = CNNModel()\n",
        "model"
      ],
      "metadata": {
        "colab": {
          "base_uri": "https://localhost:8080/"
        },
        "id": "b-r7--seFPl6",
        "outputId": "fd5210f5-f8d1-4690-c68c-3c54b0383d34"
      },
      "execution_count": 27,
      "outputs": [
        {
          "output_type": "execute_result",
          "data": {
            "text/plain": [
              "CNNModel(\n",
              "  (conv1): Conv2d(1, 6, kernel_size=(3, 3), stride=(1, 1))\n",
              "  (conv2): Conv2d(6, 16, kernel_size=(3, 3), stride=(1, 1))\n",
              "  (fc1): Linear(in_features=400, out_features=120, bias=True)\n",
              "  (fc2): Linear(in_features=120, out_features=84, bias=True)\n",
              "  (fc3): Linear(in_features=84, out_features=10, bias=True)\n",
              ")"
            ]
          },
          "metadata": {},
          "execution_count": 27
        }
      ]
    },
    {
      "cell_type": "code",
      "source": [
        "# Loss function optimizer\n",
        "criterion = nn.CrossEntropyLoss()\n",
        "optimizer = torch.optim.Adam(model.parameters(), lr=0.001)"
      ],
      "metadata": {
        "id": "05cvouKAFgDG"
      },
      "execution_count": 28,
      "outputs": []
    },
    {
      "cell_type": "code",
      "source": [
        "import time\n",
        "start_time = time.time()\n",
        "# variables to track\n",
        "epochs = 5\n",
        "train_losses = []\n",
        "test_losses = []\n",
        "train_correct = []\n",
        "test_correct = []\n",
        "\n",
        "for i in range(epochs):\n",
        "    trn_corr = 0\n",
        "    tst_corr = 0\n",
        "    for b, (X_train, y_train) in enumerate(train_loader):\n",
        "        b+=1\n",
        "\n",
        "        # Apply the model\n",
        "        y_pred = model(X_train)\n",
        "        loss = criterion(y_pred, y_train)\n",
        "\n",
        "        predicted = torch.max(y_pred.data, 1)[1]\n",
        "        batch_corr = (predicted == y_train).sum()\n",
        "        trn_corr += batch_corr\n",
        "\n",
        "        optimizer.zero_grad()\n",
        "        loss.backward()\n",
        "        optimizer.step()\n",
        "\n",
        "\n",
        "        if b%100 == 0:\n",
        "          print(f'epoch: {i}  batch: {b} loss: {loss.item()}')\n",
        "    train_losses.append(loss)\n",
        "    train_correct.append(trn_corr)\n",
        "\n",
        "    with torch.no_grad():\n",
        "        for b, (X_test, y_test) in enumerate(test_loader):\n",
        "            y_val = model(X_test)\n",
        "            predicted = torch.max(y_val.data, 1)[1]\n",
        "\n",
        "            tst_corr += (predicted == y_test).sum()\n",
        "        loss = criterion(y_val, y_test)\n",
        "        test_losses.append(loss)\n",
        "        test_correct.append(tst_corr)\n",
        "\n",
        "current_time = time.time()\n",
        "elapsed_time = current_time - start_time\n",
        "print(elapsed_time/60,' minutes')"
      ],
      "metadata": {
        "colab": {
          "base_uri": "https://localhost:8080/"
        },
        "id": "Z2BV_jjbF3Uq",
        "outputId": "0f51488d-178e-43a5-ee29-8e67ab78d997"
      },
      "execution_count": 29,
      "outputs": [
        {
          "output_type": "stream",
          "name": "stdout",
          "text": [
            "epoch: 0  batch: 100 loss: 0.9812231063842773\n",
            "epoch: 0  batch: 200 loss: 0.43812650442123413\n",
            "epoch: 0  batch: 300 loss: 0.28931525349617004\n",
            "epoch: 0  batch: 400 loss: 0.08598048985004425\n",
            "epoch: 0  batch: 500 loss: 0.33633095026016235\n",
            "epoch: 0  batch: 600 loss: 0.1623610556125641\n",
            "epoch: 0  batch: 700 loss: 0.5226176977157593\n",
            "epoch: 0  batch: 800 loss: 0.6974474191665649\n",
            "epoch: 0  batch: 900 loss: 0.20160897076129913\n",
            "epoch: 0  batch: 1000 loss: 0.5349848866462708\n",
            "epoch: 0  batch: 1100 loss: 0.8624889254570007\n",
            "epoch: 0  batch: 1200 loss: 0.1502392590045929\n",
            "epoch: 0  batch: 1300 loss: 0.025196203961968422\n",
            "epoch: 0  batch: 1400 loss: 0.3291054666042328\n",
            "epoch: 0  batch: 1500 loss: 0.055179618299007416\n",
            "epoch: 0  batch: 1600 loss: 0.05321278050541878\n",
            "epoch: 0  batch: 1700 loss: 0.07852675765752792\n",
            "epoch: 0  batch: 1800 loss: 0.4744560718536377\n",
            "epoch: 0  batch: 1900 loss: 0.03948891535401344\n",
            "epoch: 0  batch: 2000 loss: 0.5566567182540894\n",
            "epoch: 0  batch: 2100 loss: 0.026368603110313416\n",
            "epoch: 0  batch: 2200 loss: 0.05482446029782295\n",
            "epoch: 0  batch: 2300 loss: 0.04502648860216141\n",
            "epoch: 0  batch: 2400 loss: 0.14238706231117249\n",
            "epoch: 0  batch: 2500 loss: 0.09642040729522705\n",
            "epoch: 0  batch: 2600 loss: 0.04012634977698326\n",
            "epoch: 0  batch: 2700 loss: 0.018391495570540428\n",
            "epoch: 0  batch: 2800 loss: 0.03186991065740585\n",
            "epoch: 0  batch: 2900 loss: 0.10387355089187622\n",
            "epoch: 0  batch: 3000 loss: 0.007758188061416149\n",
            "epoch: 0  batch: 3100 loss: 0.010106547735631466\n",
            "epoch: 0  batch: 3200 loss: 0.006876646541059017\n",
            "epoch: 0  batch: 3300 loss: 0.007388265337795019\n",
            "epoch: 0  batch: 3400 loss: 0.029875200241804123\n",
            "epoch: 0  batch: 3500 loss: 0.004284966737031937\n",
            "epoch: 0  batch: 3600 loss: 0.3836284875869751\n",
            "epoch: 0  batch: 3700 loss: 0.009248415939509869\n",
            "epoch: 0  batch: 3800 loss: 0.09157977253198624\n",
            "epoch: 0  batch: 3900 loss: 0.037285976111888885\n",
            "epoch: 0  batch: 4000 loss: 0.01960762031376362\n",
            "epoch: 0  batch: 4100 loss: 0.0040822019800543785\n",
            "epoch: 0  batch: 4200 loss: 0.0038223876617848873\n",
            "epoch: 0  batch: 4300 loss: 0.0019595404155552387\n",
            "epoch: 0  batch: 4400 loss: 0.2853398621082306\n",
            "epoch: 0  batch: 4500 loss: 0.0008029189775697887\n",
            "epoch: 0  batch: 4600 loss: 0.100554920732975\n",
            "epoch: 0  batch: 4700 loss: 0.10335651785135269\n",
            "epoch: 0  batch: 4800 loss: 0.0021286322735249996\n",
            "epoch: 0  batch: 4900 loss: 0.27050668001174927\n",
            "epoch: 0  batch: 5000 loss: 0.04208856448531151\n",
            "epoch: 0  batch: 5100 loss: 0.031467415392398834\n",
            "epoch: 0  batch: 5200 loss: 0.03366946429014206\n",
            "epoch: 0  batch: 5300 loss: 0.05421092361211777\n",
            "epoch: 0  batch: 5400 loss: 0.0569545142352581\n",
            "epoch: 0  batch: 5500 loss: 0.0018098928267136216\n",
            "epoch: 0  batch: 5600 loss: 0.0046558743342757225\n",
            "epoch: 0  batch: 5700 loss: 0.19046862423419952\n",
            "epoch: 0  batch: 5800 loss: 0.4495726227760315\n",
            "epoch: 0  batch: 5900 loss: 0.020157651975750923\n",
            "epoch: 0  batch: 6000 loss: 0.00038789428072050214\n",
            "epoch: 1  batch: 100 loss: 0.16275431215763092\n",
            "epoch: 1  batch: 200 loss: 0.013084744103252888\n",
            "epoch: 1  batch: 300 loss: 0.00078145123552531\n",
            "epoch: 1  batch: 400 loss: 0.07116180658340454\n",
            "epoch: 1  batch: 500 loss: 0.00829227827489376\n",
            "epoch: 1  batch: 600 loss: 0.005851339548826218\n",
            "epoch: 1  batch: 700 loss: 0.00858617015182972\n",
            "epoch: 1  batch: 800 loss: 0.049824029207229614\n",
            "epoch: 1  batch: 900 loss: 0.002140082186087966\n",
            "epoch: 1  batch: 1000 loss: 0.012146287597715855\n",
            "epoch: 1  batch: 1100 loss: 0.033806078135967255\n",
            "epoch: 1  batch: 1200 loss: 0.3855525553226471\n",
            "epoch: 1  batch: 1300 loss: 0.12768013775348663\n",
            "epoch: 1  batch: 1400 loss: 0.001670104218646884\n",
            "epoch: 1  batch: 1500 loss: 0.017537157982587814\n",
            "epoch: 1  batch: 1600 loss: 0.01697724498808384\n",
            "epoch: 1  batch: 1700 loss: 0.003991781268268824\n",
            "epoch: 1  batch: 1800 loss: 0.004819948226213455\n",
            "epoch: 1  batch: 1900 loss: 0.004343960899859667\n",
            "epoch: 1  batch: 2000 loss: 0.0019016513833776116\n",
            "epoch: 1  batch: 2100 loss: 0.002873033983632922\n",
            "epoch: 1  batch: 2200 loss: 0.008562169037759304\n",
            "epoch: 1  batch: 2300 loss: 0.0011961974669247866\n",
            "epoch: 1  batch: 2400 loss: 0.003216963727027178\n",
            "epoch: 1  batch: 2500 loss: 0.0057013072073459625\n",
            "epoch: 1  batch: 2600 loss: 0.0086183687672019\n",
            "epoch: 1  batch: 2700 loss: 0.05109550431370735\n",
            "epoch: 1  batch: 2800 loss: 0.011795401573181152\n",
            "epoch: 1  batch: 2900 loss: 0.00198625260964036\n",
            "epoch: 1  batch: 3000 loss: 0.0332382395863533\n",
            "epoch: 1  batch: 3100 loss: 0.010257115587592125\n",
            "epoch: 1  batch: 3200 loss: 0.025756221264600754\n",
            "epoch: 1  batch: 3300 loss: 0.00703115900978446\n",
            "epoch: 1  batch: 3400 loss: 0.00014211455709300935\n",
            "epoch: 1  batch: 3500 loss: 0.0017011186573654413\n",
            "epoch: 1  batch: 3600 loss: 0.5372857451438904\n",
            "epoch: 1  batch: 3700 loss: 0.00380358356051147\n",
            "epoch: 1  batch: 3800 loss: 0.016691969707608223\n",
            "epoch: 1  batch: 3900 loss: 0.010013089515268803\n",
            "epoch: 1  batch: 4000 loss: 0.05203569680452347\n",
            "epoch: 1  batch: 4100 loss: 0.033697742968797684\n",
            "epoch: 1  batch: 4200 loss: 0.04561494290828705\n",
            "epoch: 1  batch: 4300 loss: 0.0024184961803257465\n",
            "epoch: 1  batch: 4400 loss: 0.01462831161916256\n",
            "epoch: 1  batch: 4500 loss: 0.11577753722667694\n",
            "epoch: 1  batch: 4600 loss: 0.001072644954547286\n",
            "epoch: 1  batch: 4700 loss: 7.250734779518098e-05\n",
            "epoch: 1  batch: 4800 loss: 0.0007510822033509612\n",
            "epoch: 1  batch: 4900 loss: 0.004627855494618416\n",
            "epoch: 1  batch: 5000 loss: 0.008827468380331993\n",
            "epoch: 1  batch: 5100 loss: 0.0015575947472825646\n",
            "epoch: 1  batch: 5200 loss: 0.030782008543610573\n",
            "epoch: 1  batch: 5300 loss: 0.0052227117121219635\n",
            "epoch: 1  batch: 5400 loss: 0.0001173773780465126\n",
            "epoch: 1  batch: 5500 loss: 0.0017221421003341675\n",
            "epoch: 1  batch: 5600 loss: 0.02392694540321827\n",
            "epoch: 1  batch: 5700 loss: 0.09406425058841705\n",
            "epoch: 1  batch: 5800 loss: 0.2580351233482361\n",
            "epoch: 1  batch: 5900 loss: 0.005629508290439844\n",
            "epoch: 1  batch: 6000 loss: 0.14201366901397705\n",
            "epoch: 2  batch: 100 loss: 0.004658979829400778\n",
            "epoch: 2  batch: 200 loss: 0.0014678726438432932\n",
            "epoch: 2  batch: 300 loss: 0.0018529373919591308\n",
            "epoch: 2  batch: 400 loss: 0.0011747885728254914\n",
            "epoch: 2  batch: 500 loss: 0.008383275009691715\n",
            "epoch: 2  batch: 600 loss: 0.023733172565698624\n",
            "epoch: 2  batch: 700 loss: 0.07152462750673294\n",
            "epoch: 2  batch: 800 loss: 0.01065434142947197\n",
            "epoch: 2  batch: 900 loss: 0.07162456214427948\n",
            "epoch: 2  batch: 1000 loss: 0.0003675628686323762\n",
            "epoch: 2  batch: 1100 loss: 0.004820610396564007\n",
            "epoch: 2  batch: 1200 loss: 0.003455493599176407\n",
            "epoch: 2  batch: 1300 loss: 0.003996501676738262\n",
            "epoch: 2  batch: 1400 loss: 0.10128126293420792\n",
            "epoch: 2  batch: 1500 loss: 0.03829234838485718\n",
            "epoch: 2  batch: 1600 loss: 0.0001324451732216403\n",
            "epoch: 2  batch: 1700 loss: 0.0069061219692230225\n",
            "epoch: 2  batch: 1800 loss: 0.0008372392621822655\n",
            "epoch: 2  batch: 1900 loss: 0.0012369012692943215\n",
            "epoch: 2  batch: 2000 loss: 0.0032195281237363815\n",
            "epoch: 2  batch: 2100 loss: 0.00033566690399311483\n",
            "epoch: 2  batch: 2200 loss: 0.09020505100488663\n",
            "epoch: 2  batch: 2300 loss: 0.003710924880579114\n",
            "epoch: 2  batch: 2400 loss: 0.010705141350626945\n",
            "epoch: 2  batch: 2500 loss: 0.002597618382424116\n",
            "epoch: 2  batch: 2600 loss: 0.002448849845677614\n",
            "epoch: 2  batch: 2700 loss: 0.0013181170215830207\n",
            "epoch: 2  batch: 2800 loss: 0.0006063530454412103\n",
            "epoch: 2  batch: 2900 loss: 0.051529139280319214\n",
            "epoch: 2  batch: 3000 loss: 0.008078320883214474\n",
            "epoch: 2  batch: 3100 loss: 8.54559984873049e-05\n",
            "epoch: 2  batch: 3200 loss: 0.008801540359854698\n",
            "epoch: 2  batch: 3300 loss: 0.002315933583304286\n",
            "epoch: 2  batch: 3400 loss: 0.04247397184371948\n",
            "epoch: 2  batch: 3500 loss: 0.4826599061489105\n",
            "epoch: 2  batch: 3600 loss: 0.0011862406972795725\n",
            "epoch: 2  batch: 3700 loss: 0.0004671173228416592\n",
            "epoch: 2  batch: 3800 loss: 0.18910911679267883\n",
            "epoch: 2  batch: 3900 loss: 0.8818497657775879\n",
            "epoch: 2  batch: 4000 loss: 0.004668953828513622\n",
            "epoch: 2  batch: 4100 loss: 0.5605572462081909\n",
            "epoch: 2  batch: 4200 loss: 0.038080841302871704\n",
            "epoch: 2  batch: 4300 loss: 0.008781859651207924\n",
            "epoch: 2  batch: 4400 loss: 5.0956441555172205e-05\n",
            "epoch: 2  batch: 4500 loss: 0.0013848241651430726\n",
            "epoch: 2  batch: 4600 loss: 0.11475088447332382\n",
            "epoch: 2  batch: 4700 loss: 0.01844201795756817\n",
            "epoch: 2  batch: 4800 loss: 0.0016068397089838982\n",
            "epoch: 2  batch: 4900 loss: 0.10292898118495941\n",
            "epoch: 2  batch: 5000 loss: 0.0052436357364058495\n",
            "epoch: 2  batch: 5100 loss: 0.0037413183599710464\n",
            "epoch: 2  batch: 5200 loss: 0.00044493755558505654\n",
            "epoch: 2  batch: 5300 loss: 0.001266677980311215\n",
            "epoch: 2  batch: 5400 loss: 0.138673797249794\n",
            "epoch: 2  batch: 5500 loss: 0.0012035723775625229\n",
            "epoch: 2  batch: 5600 loss: 0.23892326653003693\n",
            "epoch: 2  batch: 5700 loss: 0.00020772431162185967\n",
            "epoch: 2  batch: 5800 loss: 0.005735010374337435\n",
            "epoch: 2  batch: 5900 loss: 0.0020468076691031456\n",
            "epoch: 2  batch: 6000 loss: 0.2449204921722412\n",
            "epoch: 3  batch: 100 loss: 0.0034888293594121933\n",
            "epoch: 3  batch: 200 loss: 2.8500955522758886e-05\n",
            "epoch: 3  batch: 300 loss: 0.002246399177238345\n",
            "epoch: 3  batch: 400 loss: 0.0006427995976991951\n",
            "epoch: 3  batch: 500 loss: 8.810721919871867e-05\n",
            "epoch: 3  batch: 600 loss: 0.007151054684072733\n",
            "epoch: 3  batch: 700 loss: 0.0002747389080468565\n",
            "epoch: 3  batch: 800 loss: 0.0005832043243572116\n",
            "epoch: 3  batch: 900 loss: 0.002397860400378704\n",
            "epoch: 3  batch: 1000 loss: 0.002420456614345312\n",
            "epoch: 3  batch: 1100 loss: 0.010268156416714191\n",
            "epoch: 3  batch: 1200 loss: 0.011097034439444542\n",
            "epoch: 3  batch: 1300 loss: 0.0037272325716912746\n",
            "epoch: 3  batch: 1400 loss: 1.8452683434588835e-05\n",
            "epoch: 3  batch: 1500 loss: 0.001114755286835134\n",
            "epoch: 3  batch: 1600 loss: 0.017252644523978233\n",
            "epoch: 3  batch: 1700 loss: 0.0016567744314670563\n",
            "epoch: 3  batch: 1800 loss: 0.0017998721450567245\n",
            "epoch: 3  batch: 1900 loss: 0.02255944348871708\n",
            "epoch: 3  batch: 2000 loss: 0.0001249374618055299\n",
            "epoch: 3  batch: 2100 loss: 0.0002223577321274206\n",
            "epoch: 3  batch: 2200 loss: 0.00031020952155813575\n",
            "epoch: 3  batch: 2300 loss: 0.00010700251732487231\n",
            "epoch: 3  batch: 2400 loss: 0.0001049584461725317\n",
            "epoch: 3  batch: 2500 loss: 0.00010281025606673211\n",
            "epoch: 3  batch: 2600 loss: 0.00023200619034469128\n",
            "epoch: 3  batch: 2700 loss: 0.00020148204930592328\n",
            "epoch: 3  batch: 2800 loss: 0.0005592297529801726\n",
            "epoch: 3  batch: 2900 loss: 0.0077646211721003056\n",
            "epoch: 3  batch: 3000 loss: 0.0031431831885129213\n",
            "epoch: 3  batch: 3100 loss: 9.070417581824586e-05\n",
            "epoch: 3  batch: 3200 loss: 0.0004449288244359195\n",
            "epoch: 3  batch: 3300 loss: 0.00022374668333213776\n",
            "epoch: 3  batch: 3400 loss: 0.041505638509988785\n",
            "epoch: 3  batch: 3500 loss: 0.000307438982417807\n",
            "epoch: 3  batch: 3600 loss: 0.003668801160529256\n",
            "epoch: 3  batch: 3700 loss: 0.0007357405847869813\n",
            "epoch: 3  batch: 3800 loss: 0.012234039604663849\n",
            "epoch: 3  batch: 3900 loss: 0.005957003682851791\n",
            "epoch: 3  batch: 4000 loss: 0.002649243688210845\n",
            "epoch: 3  batch: 4100 loss: 0.0073783821426332\n",
            "epoch: 3  batch: 4200 loss: 0.0037249946035444736\n",
            "epoch: 3  batch: 4300 loss: 0.0012213571462780237\n",
            "epoch: 3  batch: 4400 loss: 0.00029500023811124265\n",
            "epoch: 3  batch: 4500 loss: 0.00185534474439919\n",
            "epoch: 3  batch: 4600 loss: 0.3022889792919159\n",
            "epoch: 3  batch: 4700 loss: 8.164254541043192e-05\n",
            "epoch: 3  batch: 4800 loss: 0.00015864608576521277\n",
            "epoch: 3  batch: 4900 loss: 0.0018862324068322778\n",
            "epoch: 3  batch: 5000 loss: 0.0002891890180762857\n",
            "epoch: 3  batch: 5100 loss: 0.008887315168976784\n",
            "epoch: 3  batch: 5200 loss: 0.008174343034625053\n",
            "epoch: 3  batch: 5300 loss: 4.6270128223113716e-05\n",
            "epoch: 3  batch: 5400 loss: 0.0796482041478157\n",
            "epoch: 3  batch: 5500 loss: 0.0020891004242002964\n",
            "epoch: 3  batch: 5600 loss: 0.008022280409932137\n",
            "epoch: 3  batch: 5700 loss: 0.009194494225084782\n",
            "epoch: 3  batch: 5800 loss: 0.08063241839408875\n",
            "epoch: 3  batch: 5900 loss: 0.004202110227197409\n",
            "epoch: 3  batch: 6000 loss: 0.0808732658624649\n",
            "epoch: 4  batch: 100 loss: 0.009892234578728676\n",
            "epoch: 4  batch: 200 loss: 4.5581309677800164e-05\n",
            "epoch: 4  batch: 300 loss: 0.0018635403830558062\n",
            "epoch: 4  batch: 400 loss: 0.015170900151133537\n",
            "epoch: 4  batch: 500 loss: 0.002050828654319048\n",
            "epoch: 4  batch: 600 loss: 0.014099588617682457\n",
            "epoch: 4  batch: 700 loss: 0.0046275295317173\n",
            "epoch: 4  batch: 800 loss: 0.07656345516443253\n",
            "epoch: 4  batch: 900 loss: 0.36809536814689636\n",
            "epoch: 4  batch: 1000 loss: 0.0005264768842607737\n",
            "epoch: 4  batch: 1100 loss: 0.00045433902414515615\n",
            "epoch: 4  batch: 1200 loss: 0.0382874570786953\n",
            "epoch: 4  batch: 1300 loss: 0.014749611727893353\n",
            "epoch: 4  batch: 1400 loss: 0.001583868870511651\n",
            "epoch: 4  batch: 1500 loss: 3.340022885822691e-05\n",
            "epoch: 4  batch: 1600 loss: 0.04046183079481125\n",
            "epoch: 4  batch: 1700 loss: 0.00045725697418674827\n",
            "epoch: 4  batch: 1800 loss: 0.16302265226840973\n",
            "epoch: 4  batch: 1900 loss: 0.0009776813676580787\n",
            "epoch: 4  batch: 2000 loss: 0.013100449927151203\n",
            "epoch: 4  batch: 2100 loss: 0.05156739428639412\n",
            "epoch: 4  batch: 2200 loss: 2.024066270678304e-05\n",
            "epoch: 4  batch: 2300 loss: 0.0046860226429998875\n",
            "epoch: 4  batch: 2400 loss: 0.02186887338757515\n",
            "epoch: 4  batch: 2500 loss: 0.12920889258384705\n",
            "epoch: 4  batch: 2600 loss: 0.05890991538763046\n",
            "epoch: 4  batch: 2700 loss: 0.0009390294435434043\n",
            "epoch: 4  batch: 2800 loss: 5.316678198141744e-06\n",
            "epoch: 4  batch: 2900 loss: 4.137045834795572e-05\n",
            "epoch: 4  batch: 3000 loss: 0.0024396399967372417\n",
            "epoch: 4  batch: 3100 loss: 0.00039582830504514277\n",
            "epoch: 4  batch: 3200 loss: 9.05974957277067e-06\n",
            "epoch: 4  batch: 3300 loss: 0.7199223637580872\n",
            "epoch: 4  batch: 3400 loss: 0.025933701545000076\n",
            "epoch: 4  batch: 3500 loss: 0.005651670973747969\n",
            "epoch: 4  batch: 3600 loss: 0.0013979513896629214\n",
            "epoch: 4  batch: 3700 loss: 0.15011849999427795\n",
            "epoch: 4  batch: 3800 loss: 0.005596406292170286\n",
            "epoch: 4  batch: 3900 loss: 0.0005499210092239082\n",
            "epoch: 4  batch: 4000 loss: 0.3114553689956665\n",
            "epoch: 4  batch: 4100 loss: 0.0007158601656556129\n",
            "epoch: 4  batch: 4200 loss: 0.000989563181065023\n",
            "epoch: 4  batch: 4300 loss: 0.0019343763124197721\n",
            "epoch: 4  batch: 4400 loss: 0.2834780514240265\n",
            "epoch: 4  batch: 4500 loss: 0.06296271085739136\n",
            "epoch: 4  batch: 4600 loss: 0.009675281122326851\n",
            "epoch: 4  batch: 4700 loss: 0.16157478094100952\n",
            "epoch: 4  batch: 4800 loss: 0.010317974723875523\n",
            "epoch: 4  batch: 4900 loss: 0.0005364165408536792\n",
            "epoch: 4  batch: 5000 loss: 0.019827699288725853\n",
            "epoch: 4  batch: 5100 loss: 0.09587147831916809\n",
            "epoch: 4  batch: 5200 loss: 0.0011757358442991972\n",
            "epoch: 4  batch: 5300 loss: 0.0015994030982255936\n",
            "epoch: 4  batch: 5400 loss: 0.16506639122962952\n",
            "epoch: 4  batch: 5500 loss: 0.022060604766011238\n",
            "epoch: 4  batch: 5600 loss: 0.0022615627385675907\n",
            "epoch: 4  batch: 5700 loss: 0.0002589357609394938\n",
            "epoch: 4  batch: 5800 loss: 0.006970219314098358\n",
            "epoch: 4  batch: 5900 loss: 0.0002578049898147583\n",
            "epoch: 4  batch: 6000 loss: 0.0027098222635686398\n",
            "4.524335193634033  minutes\n"
          ]
        }
      ]
    },
    {
      "cell_type": "code",
      "source": [
        "# graph the loss at each epoch\n",
        "train_losses = [t.item() for t in train_losses]\n",
        "test_losses = [t.item() for t in test_losses]\n",
        "plt.plot(train_losses, label='training loss')\n",
        "plt.plot(test_losses, label='validation loss')\n",
        "plt.title('Loss at the end of each epoch')\n",
        "plt.legend()"
      ],
      "metadata": {
        "colab": {
          "base_uri": "https://localhost:8080/",
          "height": 469
        },
        "id": "8RuwYUM9L3vo",
        "outputId": "897b0f65-0205-4ae2-dea1-f1f753b4df4f"
      },
      "execution_count": 31,
      "outputs": [
        {
          "output_type": "execute_result",
          "data": {
            "text/plain": [
              "<matplotlib.legend.Legend at 0x7da9a67e8140>"
            ]
          },
          "metadata": {},
          "execution_count": 31
        },
        {
          "output_type": "display_data",
          "data": {
            "text/plain": [
              "<Figure size 640x480 with 1 Axes>"
            ],
            "image/png": "[encoded data removed]"
          },
          "metadata": {}
        }
      ]
    },
    {
      "cell_type": "code",
      "source": [
        "# graph the accuracy at the end of each epoch\n",
        "train_accuracy = [t.item()/60000 for t in train_correct]\n",
        "test_accuracy = [t.item()/10000 for t in test_correct]\n",
        "plt.plot(train_accuracy, label='training accuracy')\n",
        "plt.plot(test_accuracy, label='validation accuracy')\n",
        "plt.title('Accuracy at the end of each epoch')\n",
        "plt.legend()"
      ],
      "metadata": {
        "colab": {
          "base_uri": "https://localhost:8080/",
          "height": 469
        },
        "id": "P1QoxLEbNQHG",
        "outputId": "b60ecc79-ca80-44ca-80c2-3ef4f3aed34a"
      },
      "execution_count": 32,
      "outputs": [
        {
          "output_type": "execute_result",
          "data": {
            "text/plain": [
              "<matplotlib.legend.Legend at 0x7da9a59e0140>"
            ]
          },
          "metadata": {},
          "execution_count": 32
        },
        {
          "output_type": "display_data",
          "data": {
            "text/plain": [
              "<Figure size 640x480 with 1 Axes>"
            ],
            "image/png": "[encoded data removed]"
          },
          "metadata": {}
        }
      ]
    },
    {
      "cell_type": "code",
      "source": [
        "test_load_everything = DataLoader(test_data, batch_size=10000, shuffle=False)"
      ],
      "metadata": {
        "id": "O-2WAbxeNkF-"
      },
      "execution_count": 33,
      "outputs": []
    },
    {
      "cell_type": "code",
      "source": [
        "with torch.no_grad():\n",
        "    correct = 0\n",
        "    for b, (X_test, y_test) in enumerate(test_load_everything):\n",
        "        y_val = model(X_test)\n",
        "        predicted = torch.max(y_val.data, 1)[1]\n",
        "        correct += (predicted == y_test).sum()\n",
        "    print(f'Test accuracy: {correct.item()/10000}')"
      ],
      "metadata": {
        "colab": {
          "base_uri": "https://localhost:8080/"
        },
        "id": "w7Xf7G3ENqeE",
        "outputId": "ce4d11c8-3e79-4f72-c8da-d2408b46e543"
      },
      "execution_count": 34,
      "outputs": [
        {
          "output_type": "stream",
          "name": "stdout",
          "text": [
            "Test accuracy: 0.9857\n"
          ]
        }
      ]
    },
    {
      "cell_type": "code",
      "source": [
        "test_data[4143]"
      ],
      "metadata": {
        "colab": {
          "base_uri": "https://localhost:8080/"
        },
        "id": "8Vx3S9puOZ4f",
        "outputId": "d9cb57a5-b653-4813-a0a8-80f5ab3b0768"
      },
      "execution_count": 35,
      "outputs": [
        {
          "output_type": "execute_result",
          "data": {
            "text/plain": [
              "(tensor([[[0.0000, 0.0000, 0.0000, 0.0000, 0.0000, 0.0000, 0.0000, 0.0000,\n",
              "           0.0000, 0.0000, 0.0000, 0.0000, 0.0000, 0.0000, 0.0000, 0.0000,\n",
              "           0.0000, 0.0000, 0.0000, 0.0000, 0.0000, 0.0000, 0.0000, 0.0000,\n",
              "           0.0000, 0.0000, 0.0000, 0.0000],\n",
              "          [0.0000, 0.0000, 0.0000, 0.0000, 0.0000, 0.0000, 0.0000, 0.0000,\n",
              "           0.0000, 0.0000, 0.0000, 0.0000, 0.0000, 0.0000, 0.0000, 0.0000,\n",
              "           0.0000, 0.0000, 0.0000, 0.0000, 0.0000, 0.0000, 0.0000, 0.0000,\n",
              "           0.0000, 0.0000, 0.0000, 0.0000],\n",
              "          [0.0000, 0.0000, 0.0000, 0.0000, 0.0000, 0.0000, 0.0000, 0.0000,\n",
              "           0.0000, 0.0000, 0.0000, 0.0000, 0.0000, 0.0000, 0.0000, 0.0000,\n",
              "           0.0000, 0.0000, 0.0000, 0.0000, 0.0000, 0.0000, 0.0000, 0.0000,\n",
              "           0.0000, 0.0000, 0.0000, 0.0000],\n",
              "          [0.0000, 0.0000, 0.0000, 0.0000, 0.0000, 0.0000, 0.0000, 0.0000,\n",
              "           0.0000, 0.0000, 0.0000, 0.0000, 0.0000, 0.0000, 0.0000, 0.0000,\n",
              "           0.0000, 0.0000, 0.0000, 0.0000, 0.0000, 0.0000, 0.0000, 0.0000,\n",
              "           0.0000, 0.0000, 0.0000, 0.0000],\n",
              "          [0.0000, 0.0000, 0.0000, 0.0000, 0.0000, 0.0000, 0.0000, 0.0000,\n",
              "           0.0000, 0.0000, 0.0000, 0.0000, 0.0000, 0.0000, 0.0000, 0.0000,\n",
              "           0.0000, 0.0000, 0.0000, 0.0000, 0.0000, 0.0000, 0.0000, 0.0000,\n",
              "           0.0000, 0.0000, 0.0000, 0.0000],\n",
              "          [0.0000, 0.0000, 0.0000, 0.0000, 0.0000, 0.0000, 0.0000, 0.0000,\n",
              "           0.0000, 0.0000, 0.0000, 0.0000, 0.0000, 0.0000, 0.0000, 0.0000,\n",
              "           0.0000, 0.0000, 0.0000, 0.0000, 0.0000, 0.0000, 0.0000, 0.0000,\n",
              "           0.0000, 0.0000, 0.0000, 0.0000],\n",
              "          [0.0000, 0.0000, 0.0000, 0.0000, 0.0000, 0.0000, 0.0000, 0.0000,\n",
              "           0.0000, 0.0000, 0.0000, 0.1765, 0.9098, 0.8275, 0.4980, 0.0627,\n",
              "           0.0000, 0.0000, 0.0000, 0.0000, 0.0000, 0.0000, 0.0000, 0.0000,\n",
              "           0.0000, 0.0000, 0.0000, 0.0000],\n",
              "          [0.0000, 0.0000, 0.0000, 0.0000, 0.0000, 0.0000, 0.0000, 0.0000,\n",
              "           0.0000, 0.0000, 0.0706, 0.7961, 0.9961, 0.9961, 0.9961, 0.8235,\n",
              "           0.3765, 0.0667, 0.0000, 0.0000, 0.0000, 0.0000, 0.0000, 0.0000,\n",
              "           0.0000, 0.0000, 0.0000, 0.0000],\n",
              "          [0.0000, 0.0000, 0.0000, 0.0000, 0.0000, 0.0000, 0.0000, 0.0000,\n",
              "           0.0000, 0.0000, 0.4353, 0.9961, 0.9961, 0.4667, 0.8941, 0.9961,\n",
              "           0.9961, 0.9412, 0.1490, 0.0000, 0.0000, 0.0000, 0.0000, 0.0000,\n",
              "           0.0000, 0.0000, 0.0000, 0.0000],\n",
              "          [0.0000, 0.0000, 0.0000, 0.0000, 0.0000, 0.0000, 0.0000, 0.0000,\n",
              "           0.0000, 0.0000, 0.8824, 0.9961, 0.7922, 0.0588, 0.1569, 0.8235,\n",
              "           0.9961, 0.9961, 0.4431, 0.0000, 0.0000, 0.0000, 0.0000, 0.0000,\n",
              "           0.0000, 0.0000, 0.0000, 0.0000],\n",
              "          [0.0000, 0.0000, 0.0000, 0.0000, 0.0000, 0.0000, 0.0000, 0.0000,\n",
              "           0.0000, 0.2314, 0.9569, 0.9961, 0.2706, 0.0000, 0.0000, 0.8157,\n",
              "           0.9961, 0.9961, 0.6902, 0.0000, 0.0000, 0.0000, 0.0000, 0.0000,\n",
              "           0.0000, 0.0000, 0.0000, 0.0000],\n",
              "          [0.0000, 0.0000, 0.0000, 0.0000, 0.0000, 0.0000, 0.0000, 0.0000,\n",
              "           0.0000, 0.7725, 0.9961, 0.9961, 0.1333, 0.0000, 0.2235, 0.9843,\n",
              "           0.9961, 0.9961, 0.5725, 0.0000, 0.0000, 0.0000, 0.0000, 0.0000,\n",
              "           0.0000, 0.0000, 0.0000, 0.0000],\n",
              "          [0.0000, 0.0000, 0.0000, 0.0000, 0.0000, 0.0000, 0.0000, 0.0000,\n",
              "           0.0000, 0.9176, 0.9961, 0.6235, 0.0157, 0.0392, 0.7176, 0.9961,\n",
              "           0.9961, 0.9961, 0.3843, 0.0000, 0.0000, 0.0000, 0.0000, 0.0000,\n",
              "           0.0000, 0.0000, 0.0000, 0.0000],\n",
              "          [0.0000, 0.0000, 0.0000, 0.0000, 0.0000, 0.0000, 0.0000, 0.0000,\n",
              "           0.0000, 0.9176, 0.9961, 0.1569, 0.0000, 0.6549, 0.9961, 0.9961,\n",
              "           0.9961, 0.9961, 0.2353, 0.0000, 0.0000, 0.0000, 0.0000, 0.0000,\n",
              "           0.0000, 0.0000, 0.0000, 0.0000],\n",
              "          [0.0000, 0.0000, 0.0000, 0.0000, 0.0000, 0.0000, 0.0000, 0.0000,\n",
              "           0.0000, 0.7373, 0.9961, 0.2824, 0.6588, 0.9765, 0.9961, 0.9961,\n",
              "           0.9961, 0.9961, 0.2353, 0.0000, 0.0000, 0.0000, 0.0000, 0.0000,\n",
              "           0.0000, 0.0000, 0.0000, 0.0000],\n",
              "          [0.0000, 0.0000, 0.0000, 0.0000, 0.0000, 0.0000, 0.0000, 0.0000,\n",
              "           0.0000, 0.3647, 0.9804, 0.9961, 0.9961, 0.9961, 0.9961, 0.9961,\n",
              "           0.9961, 0.9961, 0.2353, 0.0000, 0.0000, 0.0000, 0.0000, 0.0000,\n",
              "           0.0000, 0.0000, 0.0000, 0.0000],\n",
              "          [0.0000, 0.0000, 0.0000, 0.0000, 0.0000, 0.0000, 0.0000, 0.0000,\n",
              "           0.0000, 0.0000, 0.6784, 0.9961, 0.9961, 0.9961, 0.9451, 0.9961,\n",
              "           0.9961, 0.6824, 0.0392, 0.0000, 0.0000, 0.0000, 0.0000, 0.0000,\n",
              "           0.0000, 0.0000, 0.0000, 0.0000],\n",
              "          [0.0000, 0.0000, 0.0000, 0.0000, 0.0000, 0.0000, 0.0000, 0.0000,\n",
              "           0.0000, 0.0000, 0.0431, 0.4863, 0.8157, 0.4627, 0.5804, 0.9961,\n",
              "           0.9961, 0.8941, 0.0000, 0.0000, 0.0000, 0.0000, 0.0000, 0.0000,\n",
              "           0.0000, 0.0000, 0.0000, 0.0000],\n",
              "          [0.0000, 0.0000, 0.0000, 0.0000, 0.0000, 0.0000, 0.0000, 0.0000,\n",
              "           0.0000, 0.0000, 0.0000, 0.0000, 0.0000, 0.0000, 0.4941, 0.9961,\n",
              "           0.9961, 0.6235, 0.0000, 0.0000, 0.0000, 0.0000, 0.0000, 0.0000,\n",
              "           0.0000, 0.0000, 0.0000, 0.0000],\n",
              "          [0.0000, 0.0000, 0.0000, 0.0000, 0.0000, 0.0000, 0.0000, 0.0000,\n",
              "           0.0000, 0.0000, 0.0000, 0.0000, 0.0000, 0.0000, 0.7569, 0.9961,\n",
              "           0.9961, 0.5569, 0.0000, 0.0000, 0.0000, 0.0000, 0.0000, 0.0000,\n",
              "           0.0000, 0.0000, 0.0000, 0.0000],\n",
              "          [0.0000, 0.0000, 0.0000, 0.0000, 0.0000, 0.0000, 0.0000, 0.0000,\n",
              "           0.0000, 0.0000, 0.0000, 0.0000, 0.0000, 0.0000, 0.8314, 0.9961,\n",
              "           0.9961, 0.4157, 0.0000, 0.0000, 0.0000, 0.0000, 0.0000, 0.0000,\n",
              "           0.0000, 0.0000, 0.0000, 0.0000],\n",
              "          [0.0000, 0.0000, 0.0000, 0.0000, 0.0000, 0.0000, 0.0000, 0.0000,\n",
              "           0.0000, 0.0000, 0.0000, 0.0000, 0.0000, 0.0118, 0.8431, 0.9961,\n",
              "           0.9882, 0.2039, 0.0000, 0.0000, 0.0000, 0.0000, 0.0000, 0.0000,\n",
              "           0.0000, 0.0000, 0.0000, 0.0000],\n",
              "          [0.0000, 0.0000, 0.0000, 0.0000, 0.0000, 0.0000, 0.0000, 0.0000,\n",
              "           0.0000, 0.0000, 0.0000, 0.0000, 0.0000, 0.1882, 0.9961, 0.9961,\n",
              "           0.9255, 0.0863, 0.0000, 0.0000, 0.0000, 0.0000, 0.0000, 0.0000,\n",
              "           0.0000, 0.0000, 0.0000, 0.0000],\n",
              "          [0.0000, 0.0000, 0.0000, 0.0000, 0.0000, 0.0000, 0.0000, 0.0000,\n",
              "           0.0000, 0.0000, 0.0000, 0.0000, 0.0000, 0.5098, 0.9961, 1.0000,\n",
              "           0.5529, 0.0627, 0.0000, 0.0000, 0.0000, 0.0000, 0.0000, 0.0000,\n",
              "           0.0000, 0.0000, 0.0000, 0.0000],\n",
              "          [0.0000, 0.0000, 0.0000, 0.0000, 0.0000, 0.0000, 0.0000, 0.0000,\n",
              "           0.0000, 0.0000, 0.0000, 0.0000, 0.0000, 0.5098, 0.9961, 1.0000,\n",
              "           0.3059, 0.0000, 0.0000, 0.0000, 0.0000, 0.0000, 0.0000, 0.0000,\n",
              "           0.0000, 0.0000, 0.0000, 0.0000],\n",
              "          [0.0000, 0.0000, 0.0000, 0.0000, 0.0000, 0.0000, 0.0000, 0.0000,\n",
              "           0.0000, 0.0000, 0.0000, 0.0000, 0.0000, 0.3961, 0.9961, 0.7882,\n",
              "           0.0667, 0.0000, 0.0000, 0.0000, 0.0000, 0.0000, 0.0000, 0.0000,\n",
              "           0.0000, 0.0000, 0.0000, 0.0000],\n",
              "          [0.0000, 0.0000, 0.0000, 0.0000, 0.0000, 0.0000, 0.0000, 0.0000,\n",
              "           0.0000, 0.0000, 0.0000, 0.0000, 0.0000, 0.0000, 0.0000, 0.0000,\n",
              "           0.0000, 0.0000, 0.0000, 0.0000, 0.0000, 0.0000, 0.0000, 0.0000,\n",
              "           0.0000, 0.0000, 0.0000, 0.0000],\n",
              "          [0.0000, 0.0000, 0.0000, 0.0000, 0.0000, 0.0000, 0.0000, 0.0000,\n",
              "           0.0000, 0.0000, 0.0000, 0.0000, 0.0000, 0.0000, 0.0000, 0.0000,\n",
              "           0.0000, 0.0000, 0.0000, 0.0000, 0.0000, 0.0000, 0.0000, 0.0000,\n",
              "           0.0000, 0.0000, 0.0000, 0.0000]]]),\n",
              " 9)"
            ]
          },
          "metadata": {},
          "execution_count": 35
        }
      ]
    },
    {
      "cell_type": "code",
      "source": [
        "test_data[4143][0]"
      ],
      "metadata": {
        "colab": {
          "base_uri": "https://localhost:8080/"
        },
        "id": "f0Cy9TpYOjMU",
        "outputId": "7d02d6e4-cedf-44d0-8abd-4f5580332118"
      },
      "execution_count": 36,
      "outputs": [
        {
          "output_type": "execute_result",
          "data": {
            "text/plain": [
              "tensor([[[0.0000, 0.0000, 0.0000, 0.0000, 0.0000, 0.0000, 0.0000, 0.0000,\n",
              "          0.0000, 0.0000, 0.0000, 0.0000, 0.0000, 0.0000, 0.0000, 0.0000,\n",
              "          0.0000, 0.0000, 0.0000, 0.0000, 0.0000, 0.0000, 0.0000, 0.0000,\n",
              "          0.0000, 0.0000, 0.0000, 0.0000],\n",
              "         [0.0000, 0.0000, 0.0000, 0.0000, 0.0000, 0.0000, 0.0000, 0.0000,\n",
              "          0.0000, 0.0000, 0.0000, 0.0000, 0.0000, 0.0000, 0.0000, 0.0000,\n",
              "          0.0000, 0.0000, 0.0000, 0.0000, 0.0000, 0.0000, 0.0000, 0.0000,\n",
              "          0.0000, 0.0000, 0.0000, 0.0000],\n",
              "         [0.0000, 0.0000, 0.0000, 0.0000, 0.0000, 0.0000, 0.0000, 0.0000,\n",
              "          0.0000, 0.0000, 0.0000, 0.0000, 0.0000, 0.0000, 0.0000, 0.0000,\n",
              "          0.0000, 0.0000, 0.0000, 0.0000, 0.0000, 0.0000, 0.0000, 0.0000,\n",
              "          0.0000, 0.0000, 0.0000, 0.0000],\n",
              "         [0.0000, 0.0000, 0.0000, 0.0000, 0.0000, 0.0000, 0.0000, 0.0000,\n",
              "          0.0000, 0.0000, 0.0000, 0.0000, 0.0000, 0.0000, 0.0000, 0.0000,\n",
              "          0.0000, 0.0000, 0.0000, 0.0000, 0.0000, 0.0000, 0.0000, 0.0000,\n",
              "          0.0000, 0.0000, 0.0000, 0.0000],\n",
              "         [0.0000, 0.0000, 0.0000, 0.0000, 0.0000, 0.0000, 0.0000, 0.0000,\n",
              "          0.0000, 0.0000, 0.0000, 0.0000, 0.0000, 0.0000, 0.0000, 0.0000,\n",
              "          0.0000, 0.0000, 0.0000, 0.0000, 0.0000, 0.0000, 0.0000, 0.0000,\n",
              "          0.0000, 0.0000, 0.0000, 0.0000],\n",
              "         [0.0000, 0.0000, 0.0000, 0.0000, 0.0000, 0.0000, 0.0000, 0.0000,\n",
              "          0.0000, 0.0000, 0.0000, 0.0000, 0.0000, 0.0000, 0.0000, 0.0000,\n",
              "          0.0000, 0.0000, 0.0000, 0.0000, 0.0000, 0.0000, 0.0000, 0.0000,\n",
              "          0.0000, 0.0000, 0.0000, 0.0000],\n",
              "         [0.0000, 0.0000, 0.0000, 0.0000, 0.0000, 0.0000, 0.0000, 0.0000,\n",
              "          0.0000, 0.0000, 0.0000, 0.1765, 0.9098, 0.8275, 0.4980, 0.0627,\n",
              "          0.0000, 0.0000, 0.0000, 0.0000, 0.0000, 0.0000, 0.0000, 0.0000,\n",
              "          0.0000, 0.0000, 0.0000, 0.0000],\n",
              "         [0.0000, 0.0000, 0.0000, 0.0000, 0.0000, 0.0000, 0.0000, 0.0000,\n",
              "          0.0000, 0.0000, 0.0706, 0.7961, 0.9961, 0.9961, 0.9961, 0.8235,\n",
              "          0.3765, 0.0667, 0.0000, 0.0000, 0.0000, 0.0000, 0.0000, 0.0000,\n",
              "          0.0000, 0.0000, 0.0000, 0.0000],\n",
              "         [0.0000, 0.0000, 0.0000, 0.0000, 0.0000, 0.0000, 0.0000, 0.0000,\n",
              "          0.0000, 0.0000, 0.4353, 0.9961, 0.9961, 0.4667, 0.8941, 0.9961,\n",
              "          0.9961, 0.9412, 0.1490, 0.0000, 0.0000, 0.0000, 0.0000, 0.0000,\n",
              "          0.0000, 0.0000, 0.0000, 0.0000],\n",
              "         [0.0000, 0.0000, 0.0000, 0.0000, 0.0000, 0.0000, 0.0000, 0.0000,\n",
              "          0.0000, 0.0000, 0.8824, 0.9961, 0.7922, 0.0588, 0.1569, 0.8235,\n",
              "          0.9961, 0.9961, 0.4431, 0.0000, 0.0000, 0.0000, 0.0000, 0.0000,\n",
              "          0.0000, 0.0000, 0.0000, 0.0000],\n",
              "         [0.0000, 0.0000, 0.0000, 0.0000, 0.0000, 0.0000, 0.0000, 0.0000,\n",
              "          0.0000, 0.2314, 0.9569, 0.9961, 0.2706, 0.0000, 0.0000, 0.8157,\n",
              "          0.9961, 0.9961, 0.6902, 0.0000, 0.0000, 0.0000, 0.0000, 0.0000,\n",
              "          0.0000, 0.0000, 0.0000, 0.0000],\n",
              "         [0.0000, 0.0000, 0.0000, 0.0000, 0.0000, 0.0000, 0.0000, 0.0000,\n",
              "          0.0000, 0.7725, 0.9961, 0.9961, 0.1333, 0.0000, 0.2235, 0.9843,\n",
              "          0.9961, 0.9961, 0.5725, 0.0000, 0.0000, 0.0000, 0.0000, 0.0000,\n",
              "          0.0000, 0.0000, 0.0000, 0.0000],\n",
              "         [0.0000, 0.0000, 0.0000, 0.0000, 0.0000, 0.0000, 0.0000, 0.0000,\n",
              "          0.0000, 0.9176, 0.9961, 0.6235, 0.0157, 0.0392, 0.7176, 0.9961,\n",
              "          0.9961, 0.9961, 0.3843, 0.0000, 0.0000, 0.0000, 0.0000, 0.0000,\n",
              "          0.0000, 0.0000, 0.0000, 0.0000],\n",
              "         [0.0000, 0.0000, 0.0000, 0.0000, 0.0000, 0.0000, 0.0000, 0.0000,\n",
              "          0.0000, 0.9176, 0.9961, 0.1569, 0.0000, 0.6549, 0.9961, 0.9961,\n",
              "          0.9961, 0.9961, 0.2353, 0.0000, 0.0000, 0.0000, 0.0000, 0.0000,\n",
              "          0.0000, 0.0000, 0.0000, 0.0000],\n",
              "         [0.0000, 0.0000, 0.0000, 0.0000, 0.0000, 0.0000, 0.0000, 0.0000,\n",
              "          0.0000, 0.7373, 0.9961, 0.2824, 0.6588, 0.9765, 0.9961, 0.9961,\n",
              "          0.9961, 0.9961, 0.2353, 0.0000, 0.0000, 0.0000, 0.0000, 0.0000,\n",
              "          0.0000, 0.0000, 0.0000, 0.0000],\n",
              "         [0.0000, 0.0000, 0.0000, 0.0000, 0.0000, 0.0000, 0.0000, 0.0000,\n",
              "          0.0000, 0.3647, 0.9804, 0.9961, 0.9961, 0.9961, 0.9961, 0.9961,\n",
              "          0.9961, 0.9961, 0.2353, 0.0000, 0.0000, 0.0000, 0.0000, 0.0000,\n",
              "          0.0000, 0.0000, 0.0000, 0.0000],\n",
              "         [0.0000, 0.0000, 0.0000, 0.0000, 0.0000, 0.0000, 0.0000, 0.0000,\n",
              "          0.0000, 0.0000, 0.6784, 0.9961, 0.9961, 0.9961, 0.9451, 0.9961,\n",
              "          0.9961, 0.6824, 0.0392, 0.0000, 0.0000, 0.0000, 0.0000, 0.0000,\n",
              "          0.0000, 0.0000, 0.0000, 0.0000],\n",
              "         [0.0000, 0.0000, 0.0000, 0.0000, 0.0000, 0.0000, 0.0000, 0.0000,\n",
              "          0.0000, 0.0000, 0.0431, 0.4863, 0.8157, 0.4627, 0.5804, 0.9961,\n",
              "          0.9961, 0.8941, 0.0000, 0.0000, 0.0000, 0.0000, 0.0000, 0.0000,\n",
              "          0.0000, 0.0000, 0.0000, 0.0000],\n",
              "         [0.0000, 0.0000, 0.0000, 0.0000, 0.0000, 0.0000, 0.0000, 0.0000,\n",
              "          0.0000, 0.0000, 0.0000, 0.0000, 0.0000, 0.0000, 0.4941, 0.9961,\n",
              "          0.9961, 0.6235, 0.0000, 0.0000, 0.0000, 0.0000, 0.0000, 0.0000,\n",
              "          0.0000, 0.0000, 0.0000, 0.0000],\n",
              "         [0.0000, 0.0000, 0.0000, 0.0000, 0.0000, 0.0000, 0.0000, 0.0000,\n",
              "          0.0000, 0.0000, 0.0000, 0.0000, 0.0000, 0.0000, 0.7569, 0.9961,\n",
              "          0.9961, 0.5569, 0.0000, 0.0000, 0.0000, 0.0000, 0.0000, 0.0000,\n",
              "          0.0000, 0.0000, 0.0000, 0.0000],\n",
              "         [0.0000, 0.0000, 0.0000, 0.0000, 0.0000, 0.0000, 0.0000, 0.0000,\n",
              "          0.0000, 0.0000, 0.0000, 0.0000, 0.0000, 0.0000, 0.8314, 0.9961,\n",
              "          0.9961, 0.4157, 0.0000, 0.0000, 0.0000, 0.0000, 0.0000, 0.0000,\n",
              "          0.0000, 0.0000, 0.0000, 0.0000],\n",
              "         [0.0000, 0.0000, 0.0000, 0.0000, 0.0000, 0.0000, 0.0000, 0.0000,\n",
              "          0.0000, 0.0000, 0.0000, 0.0000, 0.0000, 0.0118, 0.8431, 0.9961,\n",
              "          0.9882, 0.2039, 0.0000, 0.0000, 0.0000, 0.0000, 0.0000, 0.0000,\n",
              "          0.0000, 0.0000, 0.0000, 0.0000],\n",
              "         [0.0000, 0.0000, 0.0000, 0.0000, 0.0000, 0.0000, 0.0000, 0.0000,\n",
              "          0.0000, 0.0000, 0.0000, 0.0000, 0.0000, 0.1882, 0.9961, 0.9961,\n",
              "          0.9255, 0.0863, 0.0000, 0.0000, 0.0000, 0.0000, 0.0000, 0.0000,\n",
              "          0.0000, 0.0000, 0.0000, 0.0000],\n",
              "         [0.0000, 0.0000, 0.0000, 0.0000, 0.0000, 0.0000, 0.0000, 0.0000,\n",
              "          0.0000, 0.0000, 0.0000, 0.0000, 0.0000, 0.5098, 0.9961, 1.0000,\n",
              "          0.5529, 0.0627, 0.0000, 0.0000, 0.0000, 0.0000, 0.0000, 0.0000,\n",
              "          0.0000, 0.0000, 0.0000, 0.0000],\n",
              "         [0.0000, 0.0000, 0.0000, 0.0000, 0.0000, 0.0000, 0.0000, 0.0000,\n",
              "          0.0000, 0.0000, 0.0000, 0.0000, 0.0000, 0.5098, 0.9961, 1.0000,\n",
              "          0.3059, 0.0000, 0.0000, 0.0000, 0.0000, 0.0000, 0.0000, 0.0000,\n",
              "          0.0000, 0.0000, 0.0000, 0.0000],\n",
              "         [0.0000, 0.0000, 0.0000, 0.0000, 0.0000, 0.0000, 0.0000, 0.0000,\n",
              "          0.0000, 0.0000, 0.0000, 0.0000, 0.0000, 0.3961, 0.9961, 0.7882,\n",
              "          0.0667, 0.0000, 0.0000, 0.0000, 0.0000, 0.0000, 0.0000, 0.0000,\n",
              "          0.0000, 0.0000, 0.0000, 0.0000],\n",
              "         [0.0000, 0.0000, 0.0000, 0.0000, 0.0000, 0.0000, 0.0000, 0.0000,\n",
              "          0.0000, 0.0000, 0.0000, 0.0000, 0.0000, 0.0000, 0.0000, 0.0000,\n",
              "          0.0000, 0.0000, 0.0000, 0.0000, 0.0000, 0.0000, 0.0000, 0.0000,\n",
              "          0.0000, 0.0000, 0.0000, 0.0000],\n",
              "         [0.0000, 0.0000, 0.0000, 0.0000, 0.0000, 0.0000, 0.0000, 0.0000,\n",
              "          0.0000, 0.0000, 0.0000, 0.0000, 0.0000, 0.0000, 0.0000, 0.0000,\n",
              "          0.0000, 0.0000, 0.0000, 0.0000, 0.0000, 0.0000, 0.0000, 0.0000,\n",
              "          0.0000, 0.0000, 0.0000, 0.0000]]])"
            ]
          },
          "metadata": {},
          "execution_count": 36
        }
      ]
    },
    {
      "cell_type": "code",
      "source": [
        "test_data[4143][0].reshape(28,28)"
      ],
      "metadata": {
        "colab": {
          "base_uri": "https://localhost:8080/"
        },
        "id": "NV2C1eWHOoI1",
        "outputId": "7d04cae8-8453-452b-86c4-04a00c859b7f"
      },
      "execution_count": 37,
      "outputs": [
        {
          "output_type": "execute_result",
          "data": {
            "text/plain": [
              "tensor([[0.0000, 0.0000, 0.0000, 0.0000, 0.0000, 0.0000, 0.0000, 0.0000, 0.0000,\n",
              "         0.0000, 0.0000, 0.0000, 0.0000, 0.0000, 0.0000, 0.0000, 0.0000, 0.0000,\n",
              "         0.0000, 0.0000, 0.0000, 0.0000, 0.0000, 0.0000, 0.0000, 0.0000, 0.0000,\n",
              "         0.0000],\n",
              "        [0.0000, 0.0000, 0.0000, 0.0000, 0.0000, 0.0000, 0.0000, 0.0000, 0.0000,\n",
              "         0.0000, 0.0000, 0.0000, 0.0000, 0.0000, 0.0000, 0.0000, 0.0000, 0.0000,\n",
              "         0.0000, 0.0000, 0.0000, 0.0000, 0.0000, 0.0000, 0.0000, 0.0000, 0.0000,\n",
              "         0.0000],\n",
              "        [0.0000, 0.0000, 0.0000, 0.0000, 0.0000, 0.0000, 0.0000, 0.0000, 0.0000,\n",
              "         0.0000, 0.0000, 0.0000, 0.0000, 0.0000, 0.0000, 0.0000, 0.0000, 0.0000,\n",
              "         0.0000, 0.0000, 0.0000, 0.0000, 0.0000, 0.0000, 0.0000, 0.0000, 0.0000,\n",
              "         0.0000],\n",
              "        [0.0000, 0.0000, 0.0000, 0.0000, 0.0000, 0.0000, 0.0000, 0.0000, 0.0000,\n",
              "         0.0000, 0.0000, 0.0000, 0.0000, 0.0000, 0.0000, 0.0000, 0.0000, 0.0000,\n",
              "         0.0000, 0.0000, 0.0000, 0.0000, 0.0000, 0.0000, 0.0000, 0.0000, 0.0000,\n",
              "         0.0000],\n",
              "        [0.0000, 0.0000, 0.0000, 0.0000, 0.0000, 0.0000, 0.0000, 0.0000, 0.0000,\n",
              "         0.0000, 0.0000, 0.0000, 0.0000, 0.0000, 0.0000, 0.0000, 0.0000, 0.0000,\n",
              "         0.0000, 0.0000, 0.0000, 0.0000, 0.0000, 0.0000, 0.0000, 0.0000, 0.0000,\n",
              "         0.0000],\n",
              "        [0.0000, 0.0000, 0.0000, 0.0000, 0.0000, 0.0000, 0.0000, 0.0000, 0.0000,\n",
              "         0.0000, 0.0000, 0.0000, 0.0000, 0.0000, 0.0000, 0.0000, 0.0000, 0.0000,\n",
              "         0.0000, 0.0000, 0.0000, 0.0000, 0.0000, 0.0000, 0.0000, 0.0000, 0.0000,\n",
              "         0.0000],\n",
              "        [0.0000, 0.0000, 0.0000, 0.0000, 0.0000, 0.0000, 0.0000, 0.0000, 0.0000,\n",
              "         0.0000, 0.0000, 0.1765, 0.9098, 0.8275, 0.4980, 0.0627, 0.0000, 0.0000,\n",
              "         0.0000, 0.0000, 0.0000, 0.0000, 0.0000, 0.0000, 0.0000, 0.0000, 0.0000,\n",
              "         0.0000],\n",
              "        [0.0000, 0.0000, 0.0000, 0.0000, 0.0000, 0.0000, 0.0000, 0.0000, 0.0000,\n",
              "         0.0000, 0.0706, 0.7961, 0.9961, 0.9961, 0.9961, 0.8235, 0.3765, 0.0667,\n",
              "         0.0000, 0.0000, 0.0000, 0.0000, 0.0000, 0.0000, 0.0000, 0.0000, 0.0000,\n",
              "         0.0000],\n",
              "        [0.0000, 0.0000, 0.0000, 0.0000, 0.0000, 0.0000, 0.0000, 0.0000, 0.0000,\n",
              "         0.0000, 0.4353, 0.9961, 0.9961, 0.4667, 0.8941, 0.9961, 0.9961, 0.9412,\n",
              "         0.1490, 0.0000, 0.0000, 0.0000, 0.0000, 0.0000, 0.0000, 0.0000, 0.0000,\n",
              "         0.0000],\n",
              "        [0.0000, 0.0000, 0.0000, 0.0000, 0.0000, 0.0000, 0.0000, 0.0000, 0.0000,\n",
              "         0.0000, 0.8824, 0.9961, 0.7922, 0.0588, 0.1569, 0.8235, 0.9961, 0.9961,\n",
              "         0.4431, 0.0000, 0.0000, 0.0000, 0.0000, 0.0000, 0.0000, 0.0000, 0.0000,\n",
              "         0.0000],\n",
              "        [0.0000, 0.0000, 0.0000, 0.0000, 0.0000, 0.0000, 0.0000, 0.0000, 0.0000,\n",
              "         0.2314, 0.9569, 0.9961, 0.2706, 0.0000, 0.0000, 0.8157, 0.9961, 0.9961,\n",
              "         0.6902, 0.0000, 0.0000, 0.0000, 0.0000, 0.0000, 0.0000, 0.0000, 0.0000,\n",
              "         0.0000],\n",
              "        [0.0000, 0.0000, 0.0000, 0.0000, 0.0000, 0.0000, 0.0000, 0.0000, 0.0000,\n",
              "         0.7725, 0.9961, 0.9961, 0.1333, 0.0000, 0.2235, 0.9843, 0.9961, 0.9961,\n",
              "         0.5725, 0.0000, 0.0000, 0.0000, 0.0000, 0.0000, 0.0000, 0.0000, 0.0000,\n",
              "         0.0000],\n",
              "        [0.0000, 0.0000, 0.0000, 0.0000, 0.0000, 0.0000, 0.0000, 0.0000, 0.0000,\n",
              "         0.9176, 0.9961, 0.6235, 0.0157, 0.0392, 0.7176, 0.9961, 0.9961, 0.9961,\n",
              "         0.3843, 0.0000, 0.0000, 0.0000, 0.0000, 0.0000, 0.0000, 0.0000, 0.0000,\n",
              "         0.0000],\n",
              "        [0.0000, 0.0000, 0.0000, 0.0000, 0.0000, 0.0000, 0.0000, 0.0000, 0.0000,\n",
              "         0.9176, 0.9961, 0.1569, 0.0000, 0.6549, 0.9961, 0.9961, 0.9961, 0.9961,\n",
              "         0.2353, 0.0000, 0.0000, 0.0000, 0.0000, 0.0000, 0.0000, 0.0000, 0.0000,\n",
              "         0.0000],\n",
              "        [0.0000, 0.0000, 0.0000, 0.0000, 0.0000, 0.0000, 0.0000, 0.0000, 0.0000,\n",
              "         0.7373, 0.9961, 0.2824, 0.6588, 0.9765, 0.9961, 0.9961, 0.9961, 0.9961,\n",
              "         0.2353, 0.0000, 0.0000, 0.0000, 0.0000, 0.0000, 0.0000, 0.0000, 0.0000,\n",
              "         0.0000],\n",
              "        [0.0000, 0.0000, 0.0000, 0.0000, 0.0000, 0.0000, 0.0000, 0.0000, 0.0000,\n",
              "         0.3647, 0.9804, 0.9961, 0.9961, 0.9961, 0.9961, 0.9961, 0.9961, 0.9961,\n",
              "         0.2353, 0.0000, 0.0000, 0.0000, 0.0000, 0.0000, 0.0000, 0.0000, 0.0000,\n",
              "         0.0000],\n",
              "        [0.0000, 0.0000, 0.0000, 0.0000, 0.0000, 0.0000, 0.0000, 0.0000, 0.0000,\n",
              "         0.0000, 0.6784, 0.9961, 0.9961, 0.9961, 0.9451, 0.9961, 0.9961, 0.6824,\n",
              "         0.0392, 0.0000, 0.0000, 0.0000, 0.0000, 0.0000, 0.0000, 0.0000, 0.0000,\n",
              "         0.0000],\n",
              "        [0.0000, 0.0000, 0.0000, 0.0000, 0.0000, 0.0000, 0.0000, 0.0000, 0.0000,\n",
              "         0.0000, 0.0431, 0.4863, 0.8157, 0.4627, 0.5804, 0.9961, 0.9961, 0.8941,\n",
              "         0.0000, 0.0000, 0.0000, 0.0000, 0.0000, 0.0000, 0.0000, 0.0000, 0.0000,\n",
              "         0.0000],\n",
              "        [0.0000, 0.0000, 0.0000, 0.0000, 0.0000, 0.0000, 0.0000, 0.0000, 0.0000,\n",
              "         0.0000, 0.0000, 0.0000, 0.0000, 0.0000, 0.4941, 0.9961, 0.9961, 0.6235,\n",
              "         0.0000, 0.0000, 0.0000, 0.0000, 0.0000, 0.0000, 0.0000, 0.0000, 0.0000,\n",
              "         0.0000],\n",
              "        [0.0000, 0.0000, 0.0000, 0.0000, 0.0000, 0.0000, 0.0000, 0.0000, 0.0000,\n",
              "         0.0000, 0.0000, 0.0000, 0.0000, 0.0000, 0.7569, 0.9961, 0.9961, 0.5569,\n",
              "         0.0000, 0.0000, 0.0000, 0.0000, 0.0000, 0.0000, 0.0000, 0.0000, 0.0000,\n",
              "         0.0000],\n",
              "        [0.0000, 0.0000, 0.0000, 0.0000, 0.0000, 0.0000, 0.0000, 0.0000, 0.0000,\n",
              "         0.0000, 0.0000, 0.0000, 0.0000, 0.0000, 0.8314, 0.9961, 0.9961, 0.4157,\n",
              "         0.0000, 0.0000, 0.0000, 0.0000, 0.0000, 0.0000, 0.0000, 0.0000, 0.0000,\n",
              "         0.0000],\n",
              "        [0.0000, 0.0000, 0.0000, 0.0000, 0.0000, 0.0000, 0.0000, 0.0000, 0.0000,\n",
              "         0.0000, 0.0000, 0.0000, 0.0000, 0.0118, 0.8431, 0.9961, 0.9882, 0.2039,\n",
              "         0.0000, 0.0000, 0.0000, 0.0000, 0.0000, 0.0000, 0.0000, 0.0000, 0.0000,\n",
              "         0.0000],\n",
              "        [0.0000, 0.0000, 0.0000, 0.0000, 0.0000, 0.0000, 0.0000, 0.0000, 0.0000,\n",
              "         0.0000, 0.0000, 0.0000, 0.0000, 0.1882, 0.9961, 0.9961, 0.9255, 0.0863,\n",
              "         0.0000, 0.0000, 0.0000, 0.0000, 0.0000, 0.0000, 0.0000, 0.0000, 0.0000,\n",
              "         0.0000],\n",
              "        [0.0000, 0.0000, 0.0000, 0.0000, 0.0000, 0.0000, 0.0000, 0.0000, 0.0000,\n",
              "         0.0000, 0.0000, 0.0000, 0.0000, 0.5098, 0.9961, 1.0000, 0.5529, 0.0627,\n",
              "         0.0000, 0.0000, 0.0000, 0.0000, 0.0000, 0.0000, 0.0000, 0.0000, 0.0000,\n",
              "         0.0000],\n",
              "        [0.0000, 0.0000, 0.0000, 0.0000, 0.0000, 0.0000, 0.0000, 0.0000, 0.0000,\n",
              "         0.0000, 0.0000, 0.0000, 0.0000, 0.5098, 0.9961, 1.0000, 0.3059, 0.0000,\n",
              "         0.0000, 0.0000, 0.0000, 0.0000, 0.0000, 0.0000, 0.0000, 0.0000, 0.0000,\n",
              "         0.0000],\n",
              "        [0.0000, 0.0000, 0.0000, 0.0000, 0.0000, 0.0000, 0.0000, 0.0000, 0.0000,\n",
              "         0.0000, 0.0000, 0.0000, 0.0000, 0.3961, 0.9961, 0.7882, 0.0667, 0.0000,\n",
              "         0.0000, 0.0000, 0.0000, 0.0000, 0.0000, 0.0000, 0.0000, 0.0000, 0.0000,\n",
              "         0.0000],\n",
              "        [0.0000, 0.0000, 0.0000, 0.0000, 0.0000, 0.0000, 0.0000, 0.0000, 0.0000,\n",
              "         0.0000, 0.0000, 0.0000, 0.0000, 0.0000, 0.0000, 0.0000, 0.0000, 0.0000,\n",
              "         0.0000, 0.0000, 0.0000, 0.0000, 0.0000, 0.0000, 0.0000, 0.0000, 0.0000,\n",
              "         0.0000],\n",
              "        [0.0000, 0.0000, 0.0000, 0.0000, 0.0000, 0.0000, 0.0000, 0.0000, 0.0000,\n",
              "         0.0000, 0.0000, 0.0000, 0.0000, 0.0000, 0.0000, 0.0000, 0.0000, 0.0000,\n",
              "         0.0000, 0.0000, 0.0000, 0.0000, 0.0000, 0.0000, 0.0000, 0.0000, 0.0000,\n",
              "         0.0000]])"
            ]
          },
          "metadata": {},
          "execution_count": 37
        }
      ]
    },
    {
      "cell_type": "code",
      "source": [
        "plt.imshow(test_data[4143][0].reshape(28,28))"
      ],
      "metadata": {
        "colab": {
          "base_uri": "https://localhost:8080/",
          "height": 447
        },
        "id": "pxblxc4HOyc4",
        "outputId": "f59902ce-5986-421c-bcfc-b03ded1460b5"
      },
      "execution_count": 39,
      "outputs": [
        {
          "output_type": "execute_result",
          "data": {
            "text/plain": [
              "<matplotlib.image.AxesImage at 0x7da9a595bcb0>"
            ]
          },
          "metadata": {},
          "execution_count": 39
        },
        {
          "output_type": "display_data",
          "data": {
            "text/plain": [
              "<Figure size 640x480 with 1 Axes>"
            ],
            "image/png": "[encoded data removed]"
          },
          "metadata": {}
        }
      ]
    },
    {
      "cell_type": "code",
      "source": [
        "#let's pass this image\n",
        "model.eval()\n",
        "with torch.no_grad():\n",
        "  new_image = test_data[4143][0].view(1,1,28,28)\n",
        "  y_pred = model(new_image)"
      ],
      "metadata": {
        "id": "V8x1HPMyO-av"
      },
      "execution_count": 40,
      "outputs": []
    },
    {
      "cell_type": "code",
      "source": [
        "y_pred.argmax()"
      ],
      "metadata": {
        "colab": {
          "base_uri": "https://localhost:8080/"
        },
        "id": "aEX27q4uPShN",
        "outputId": "6416a26e-7d22-4117-aeb4-64e5ec2bb2d3"
      },
      "execution_count": 44,
      "outputs": [
        {
          "output_type": "execute_result",
          "data": {
            "text/plain": [
              "tensor(9)"
            ]
          },
          "metadata": {},
          "execution_count": 44
        }
      ]
    }
  ]
}